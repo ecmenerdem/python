{
 "cells": [
  {
   "cell_type": "markdown",
   "metadata": {},
   "source": [
    "#If-Else"
   ]
  },
  {
   "cell_type": "code",
   "execution_count": 3,
   "metadata": {},
   "outputs": [
    {
     "name": "stdout",
     "output_type": "stream",
     "text": [
      "Lütfen Sayı Giriniz: 4\n",
      "Girdiğiniz Sayı Çifttir.\n"
     ]
    }
   ],
   "source": [
    "Sayi=int(input(\"Lütfen Sayı Giriniz: \"))\n",
    "if(Sayi %2 ==0):\n",
    "    print (\"Girdiğiniz Sayı Çifttir.\")\n",
    "else:\n",
    "    print (\"Girdiğiniz Sayı Tektir.\")"
   ]
  },
  {
   "cell_type": "markdown",
   "metadata": {},
   "source": [
    "### Hesap Makinesi"
   ]
  },
  {
   "cell_type": "code",
   "execution_count": 7,
   "metadata": {},
   "outputs": [
    {
     "name": "stdout",
     "output_type": "stream",
     "text": [
      "Hesap Makinesi Programı\n",
      "İşlemler:\n",
      "\n",
      "+ Toplama\n",
      "\n",
      "- Çıkarma\n",
      "\n",
      "* Çarpma\n",
      "\n",
      "/ Bölme\n",
      "      \n",
      "      \n",
      "      \n",
      "      \n",
      "Birinci Sayıyı Giriniz: 5\n",
      "İkinci Sayıyı Giriniz: 6\n",
      "Lütfen Yapacağınız İşlemin İşaretini Giriniz(+ - * /): *\n",
      "5 * 6 = 30\n"
     ]
    }
   ],
   "source": [
    "print(\"\"\"Hesap Makinesi Programı\n",
    "İşlemler:\n",
    "\n",
    "+ Toplama\n",
    "\n",
    "- Çıkarma\n",
    "\n",
    "* Çarpma\n",
    "\n",
    "/ Bölme     \n",
    "      \n",
    "      \"\"\")\n",
    "\n",
    "sayi1 = int(input(\"Birinci Sayıyı Giriniz: \"))\n",
    "sayi2 = int(input(\"İkinci Sayıyı Giriniz: \"))\n",
    "islem = input(\"Lütfen Yapacağınız İşlemin İşaretini Giriniz(+ - * /): \")\n",
    "\n",
    "if(islem == \"+\"):\n",
    "    print(sayi1,islem,sayi2,\"=\",sayi1+sayi2 )\n",
    "elif(islem ==\"-\"):\n",
    "    print(sayi1,islem,sayi2,\"=\",sayi1-sayi2 )\n",
    "elif(islem ==\"*\"):\n",
    "    print(sayi1,islem,sayi2,\"=\",sayi1*sayi2 )\n",
    "elif(islem ==\"/\"):\n",
    "    print(sayi1,islem,sayi2,\"=\",sayi1/sayi2 )\n",
    "else:\n",
    "    print(\"Lütfen Geçerli Bir İşlem Giriniz\")"
   ]
  }
 ],
 "metadata": {
  "kernelspec": {
   "display_name": "Python 3",
   "language": "python",
   "name": "python3"
  },
  "language_info": {
   "codemirror_mode": {
    "name": "ipython",
    "version": 3
   },
   "file_extension": ".py",
   "mimetype": "text/x-python",
   "name": "python",
   "nbconvert_exporter": "python",
   "pygments_lexer": "ipython3",
   "version": "3.6.4"
  }
 },
 "nbformat": 4,
 "nbformat_minor": 2
}
