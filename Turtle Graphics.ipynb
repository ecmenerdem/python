{
 "cells": [
  {
   "cell_type": "markdown",
   "metadata": {},
   "source": [
    "# Çizgi Çizme"
   ]
  },
  {
   "cell_type": "code",
   "execution_count": null,
   "metadata": {},
   "outputs": [],
   "source": [
    "# Step 1: Make all the \"turtle\" commands available to us.\n",
    "import turtle\n",
    "\n",
    "# Step 2: Create a new turtle. We'll call it \"bob\"\n",
    "cizgi = turtle.Turtle()\n",
    "\n",
    "# Step 3: Move in the direction Bob's facing for 50 pixels\n",
    "cizgi.forward(50)\n",
    "\n",
    "# Step 4: We're done!\n",
    "turtle.done()"
   ]
  },
  {
   "cell_type": "markdown",
   "metadata": {},
   "source": [
    "# Kare Çizme"
   ]
  },
  {
   "cell_type": "code",
   "execution_count": null,
   "metadata": {},
   "outputs": [],
   "source": [
    "import turtle\n",
    "\n",
    "kare = turtle.Turtle()\n",
    "\n",
    "kare.forward(50)\n",
    "kare.right(90)     # Rotate clockwise by 90 degrees\n",
    "\n",
    "kare.forward(50)\n",
    "kare.right(90)\n",
    "\n",
    "kare.forward(50)\n",
    "kare.right(90)\n",
    "\n",
    "kare.forward(50)\n",
    "kare.right(90)\n",
    "\n",
    "turtle.done()"
   ]
  },
  {
   "cell_type": "markdown",
   "metadata": {},
   "source": [
    "# # Notlar !!!"
   ]
  },
  {
   "cell_type": "markdown",
   "metadata": {},
   "source": [
    "- forward(x)--> ileri x birim git\n",
    "- right(x)--> Sağa x derece dön\n",
    "- left(x)--> Sola x derece dön"
   ]
  },
  {
   "cell_type": "markdown",
   "metadata": {},
   "source": [
    "#  Kare Çizme(Döngü İle Çizim)"
   ]
  },
  {
   "cell_type": "code",
   "execution_count": null,
   "metadata": {},
   "outputs": [],
   "source": [
    "import turtle \n",
    "\n",
    "kare = turtle.Turtle()\n",
    "\n",
    "# Loop 4 times. Everything I want to repeat is \n",
    "# *indented* by four spaces.\n",
    "for i in range(4):\n",
    "    kare.forward(50)\n",
    "    kare.right(90)\n",
    "    \n",
    "# This isn't indented, so we aren't repeating it.\n",
    "turtle.done()"
   ]
  },
  {
   "cell_type": "markdown",
   "metadata": {},
   "source": [
    "# Renk Değiştirme"
   ]
  },
  {
   "cell_type": "code",
   "execution_count": null,
   "metadata": {},
   "outputs": [],
   "source": [
    "import turtle \n",
    "\n",
    "painter = turtle.Turtle()\n",
    "\n",
    "painter.pencolor(\"blue\")\n",
    "\n",
    "for i in range(50):\n",
    "    painter.forward(50)\n",
    "    painter.left(123) # Let's go counterclockwise this time \n",
    "    \n",
    "painter.pencolor(\"red\")\n",
    "for i in range(50):\n",
    "    painter.forward(100)\n",
    "    painter.left(123)\n",
    "    \n",
    "turtle.done()"
   ]
  },
  {
   "cell_type": "markdown",
   "metadata": {},
   "source": [
    "# # Notlar !!!"
   ]
  },
  {
   "cell_type": "markdown",
   "metadata": {},
   "source": [
    "Pen Color renklendirilirken \"painter2.pencolor(\"#32D486\")\" biçiminde yazılabilir. "
   ]
  },
  {
   "cell_type": "markdown",
   "metadata": {},
   "source": [
    "# İç İçe Döngü Örneği(Nokta Döngüsü)"
   ]
  },
  {
   "cell_type": "code",
   "execution_count": null,
   "metadata": {},
   "outputs": [],
   "source": [
    "import turtle \n",
    "\n",
    "pen = turtle.Turtle()\n",
    "\n",
    "dot_distance = 25\n",
    "width = 5\n",
    "height = 7\n",
    "\n",
    "pen.penup()\n",
    "\n",
    "for y in range(height):\n",
    "    for i in range(width):\n",
    "        pen.dot()\n",
    "        pen.forward(dot_distance)\n",
    "    pen.backward(dot_distance * width)\n",
    "    pen.right(90)\n",
    "    pen.forward(dot_distance)\n",
    "    pen.left(90)\n",
    "    \n",
    "turtle.done()"
   ]
  },
  {
   "cell_type": "markdown",
   "metadata": {},
   "source": [
    "## NOTLAR!!"
   ]
  },
  {
   "cell_type": "markdown",
   "metadata": {},
   "source": [
    "- kalem.penup() --> Kalemi Kaldırır\n",
    "- kalem.setposition(0, 0) --> Kalemin Pozisyonunu Belirler\n",
    "- kalem.pendown() --> Kalemi Bastırır"
   ]
  }
 ],
 "metadata": {
  "kernelspec": {
   "display_name": "Python 3",
   "language": "python",
   "name": "python3"
  },
  "language_info": {
   "codemirror_mode": {
    "name": "ipython",
    "version": 3
   },
   "file_extension": ".py",
   "mimetype": "text/x-python",
   "name": "python",
   "nbconvert_exporter": "python",
   "pygments_lexer": "ipython3",
   "version": "3.6.4"
  }
 },
 "nbformat": 4,
 "nbformat_minor": 2
}
